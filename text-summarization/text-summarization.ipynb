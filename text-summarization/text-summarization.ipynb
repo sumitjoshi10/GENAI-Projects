{
 "cells": [
  {
   "cell_type": "code",
   "execution_count": 1,
   "metadata": {},
   "outputs": [
    {
     "name": "stdout",
     "output_type": "stream",
     "text": [
      "OK\n"
     ]
    }
   ],
   "source": [
    "print(\"OK\")"
   ]
  },
  {
   "cell_type": "code",
   "execution_count": 2,
   "metadata": {},
   "outputs": [],
   "source": [
    "import torch\n",
    "import gradio as gr\n",
    "from transformers import pipeline"
   ]
  },
  {
   "cell_type": "code",
   "execution_count": 4,
   "metadata": {},
   "outputs": [
    {
     "name": "stderr",
     "output_type": "stream",
     "text": [
      "Device set to use cpu\n"
     ]
    }
   ],
   "source": [
    "# Use a pipeline as a high-level helper\n",
    "from transformers import pipeline\n",
    "\n",
    "pipe = pipeline(\"summarization\", model=\"sshleifer/distilbart-cnn-12-6\")"
   ]
  },
  {
   "cell_type": "code",
   "execution_count": 14,
   "metadata": {},
   "outputs": [
    {
     "name": "stderr",
     "output_type": "stream",
     "text": [
      "Device set to use cpu\n"
     ]
    }
   ],
   "source": [
    "# Copying the model and pasting in the below path and using that model\n",
    "from pathlib import Path\n",
    "model_path = Path(\"../models/models--sshleifer--distilbart-cnn-12-6/snapshots/a4f8f3ea906ed274767e9906dbaede7531d660ff\")\n",
    "text_summary = pipeline(\"summarization\", model=model_path, torch_dtype=torch.bfloat16)"
   ]
  },
  {
   "cell_type": "code",
   "execution_count": 15,
   "metadata": {},
   "outputs": [
    {
     "name": "stderr",
     "output_type": "stream",
     "text": [
      "Your max_length is set to 142, but your input_length is only 106. Since this is a summarization task, where outputs shorter than the input are typically wanted, you might consider decreasing max_length manually, e.g. summarizer('...', max_length=53)\n"
     ]
    },
    {
     "name": "stdout",
     "output_type": "stream",
     "text": [
      "[{'summary_text': ' Elon Reeve Musk is the wealthiest person in the world . Forbes estimates his net worth to be $320 billion USD . He has been a senior advisor to U.S. president Donald Trump and the de facto head of the Department of Government Efficiency (DOGE)'}]\n"
     ]
    }
   ],
   "source": [
    "text = \"Elon Reeve Musk (/ˈiːlɒn/ EE-lon; born June 28, 1971) is a businessman known for his key roles in Tesla, SpaceX, and Twitter (which he rebranded as X). Since 2025, he has been a senior advisor to United States president Donald Trump and the de facto head of the Department of Government Efficiency (DOGE). Musk is the wealthiest person in the world; as of March 2025, Forbes estimates his net worth to be $320 billion USD.\"\n",
    "print(text_summary(text))"
   ]
  },
  {
   "cell_type": "code",
   "execution_count": 16,
   "metadata": {},
   "outputs": [],
   "source": [
    "def summary(input):\n",
    "    output = text_summary(input)\n",
    "    return output[0][\"summary_text\"]"
   ]
  },
  {
   "cell_type": "code",
   "execution_count": 17,
   "metadata": {},
   "outputs": [],
   "source": [
    "gr.close_all()"
   ]
  },
  {
   "cell_type": "code",
   "execution_count": null,
   "metadata": {},
   "outputs": [
    {
     "name": "stdout",
     "output_type": "stream",
     "text": [
      "* Running on local URL:  http://127.0.0.1:7860\n",
      "\n",
      "To create a public link, set `share=True` in `launch()`.\n"
     ]
    },
    {
     "data": {
      "text/html": [
       "<div><iframe src=\"http://127.0.0.1:7860/\" width=\"100%\" height=\"500\" allow=\"autoplay; camera; microphone; clipboard-read; clipboard-write;\" frameborder=\"0\" allowfullscreen></iframe></div>"
      ],
      "text/plain": [
       "<IPython.core.display.HTML object>"
      ]
     },
     "metadata": {},
     "output_type": "display_data"
    },
    {
     "data": {
      "text/plain": []
     },
     "execution_count": 20,
     "metadata": {},
     "output_type": "execute_result"
    },
    {
     "name": "stderr",
     "output_type": "stream",
     "text": [
      "Token indices sequence length is longer than the specified maximum sequence length for this model (2789 > 1024). Running this sequence through the model will result in indexing errors\n",
      "Traceback (most recent call last):\n",
      "  File \"e:\\Personal Files\\Learning Programming\\Data Science\\Projects\\GenAI_Projects\\venv\\Lib\\site-packages\\gradio\\queueing.py\", line 625, in process_events\n",
      "    response = await route_utils.call_process_api(\n",
      "               ^^^^^^^^^^^^^^^^^^^^^^^^^^^^^^^^^^^\n",
      "    ...<5 lines>...\n",
      "    )\n",
      "    ^\n",
      "  File \"e:\\Personal Files\\Learning Programming\\Data Science\\Projects\\GenAI_Projects\\venv\\Lib\\site-packages\\gradio\\route_utils.py\", line 322, in call_process_api\n",
      "    output = await app.get_blocks().process_api(\n",
      "             ^^^^^^^^^^^^^^^^^^^^^^^^^^^^^^^^^^^\n",
      "    ...<11 lines>...\n",
      "    )\n",
      "    ^\n",
      "  File \"e:\\Personal Files\\Learning Programming\\Data Science\\Projects\\GenAI_Projects\\venv\\Lib\\site-packages\\gradio\\blocks.py\", line 2137, in process_api\n",
      "    result = await self.call_function(\n",
      "             ^^^^^^^^^^^^^^^^^^^^^^^^^\n",
      "    ...<8 lines>...\n",
      "    )\n",
      "    ^\n",
      "  File \"e:\\Personal Files\\Learning Programming\\Data Science\\Projects\\GenAI_Projects\\venv\\Lib\\site-packages\\gradio\\blocks.py\", line 1663, in call_function\n",
      "    prediction = await anyio.to_thread.run_sync(  # type: ignore\n",
      "                 ^^^^^^^^^^^^^^^^^^^^^^^^^^^^^^^^^^^^^^^^^^^^^^^\n",
      "        fn, *processed_input, limiter=self.limiter\n",
      "        ^^^^^^^^^^^^^^^^^^^^^^^^^^^^^^^^^^^^^^^^^^\n",
      "    )\n",
      "    ^\n",
      "  File \"e:\\Personal Files\\Learning Programming\\Data Science\\Projects\\GenAI_Projects\\venv\\Lib\\site-packages\\anyio\\to_thread.py\", line 56, in run_sync\n",
      "    return await get_async_backend().run_sync_in_worker_thread(\n",
      "           ^^^^^^^^^^^^^^^^^^^^^^^^^^^^^^^^^^^^^^^^^^^^^^^^^^^^\n",
      "        func, args, abandon_on_cancel=abandon_on_cancel, limiter=limiter\n",
      "        ^^^^^^^^^^^^^^^^^^^^^^^^^^^^^^^^^^^^^^^^^^^^^^^^^^^^^^^^^^^^^^^^\n",
      "    )\n",
      "    ^\n",
      "  File \"e:\\Personal Files\\Learning Programming\\Data Science\\Projects\\GenAI_Projects\\venv\\Lib\\site-packages\\anyio\\_backends\\_asyncio.py\", line 2470, in run_sync_in_worker_thread\n",
      "    return await future\n",
      "           ^^^^^^^^^^^^\n",
      "  File \"e:\\Personal Files\\Learning Programming\\Data Science\\Projects\\GenAI_Projects\\venv\\Lib\\site-packages\\anyio\\_backends\\_asyncio.py\", line 967, in run\n",
      "    result = context.run(func, *args)\n",
      "  File \"e:\\Personal Files\\Learning Programming\\Data Science\\Projects\\GenAI_Projects\\venv\\Lib\\site-packages\\gradio\\utils.py\", line 890, in wrapper\n",
      "    response = f(*args, **kwargs)\n",
      "  File \"C:\\Users\\SUMIT\\AppData\\Local\\Temp\\ipykernel_35084\\1982970837.py\", line 2, in summary\n",
      "    output = text_summary(input)\n",
      "  File \"e:\\Personal Files\\Learning Programming\\Data Science\\Projects\\GenAI_Projects\\venv\\Lib\\site-packages\\transformers\\pipelines\\text2text_generation.py\", line 280, in __call__\n",
      "    return super().__call__(*args, **kwargs)\n",
      "           ~~~~~~~~~~~~~~~~^^^^^^^^^^^^^^^^^\n",
      "  File \"e:\\Personal Files\\Learning Programming\\Data Science\\Projects\\GenAI_Projects\\venv\\Lib\\site-packages\\transformers\\pipelines\\text2text_generation.py\", line 173, in __call__\n",
      "    result = super().__call__(*args, **kwargs)\n",
      "  File \"e:\\Personal Files\\Learning Programming\\Data Science\\Projects\\GenAI_Projects\\venv\\Lib\\site-packages\\transformers\\pipelines\\base.py\", line 1371, in __call__\n",
      "    return self.run_single(inputs, preprocess_params, forward_params, postprocess_params)\n",
      "           ~~~~~~~~~~~~~~~^^^^^^^^^^^^^^^^^^^^^^^^^^^^^^^^^^^^^^^^^^^^^^^^^^^^^^^^^^^^^^^\n",
      "  File \"e:\\Personal Files\\Learning Programming\\Data Science\\Projects\\GenAI_Projects\\venv\\Lib\\site-packages\\transformers\\pipelines\\base.py\", line 1378, in run_single\n",
      "    model_outputs = self.forward(model_inputs, **forward_params)\n",
      "  File \"e:\\Personal Files\\Learning Programming\\Data Science\\Projects\\GenAI_Projects\\venv\\Lib\\site-packages\\transformers\\pipelines\\base.py\", line 1278, in forward\n",
      "    model_outputs = self._forward(model_inputs, **forward_params)\n",
      "  File \"e:\\Personal Files\\Learning Programming\\Data Science\\Projects\\GenAI_Projects\\venv\\Lib\\site-packages\\transformers\\pipelines\\text2text_generation.py\", line 202, in _forward\n",
      "    output_ids = self.model.generate(**model_inputs, **generate_kwargs)\n",
      "  File \"e:\\Personal Files\\Learning Programming\\Data Science\\Projects\\GenAI_Projects\\venv\\Lib\\site-packages\\torch\\utils\\_contextlib.py\", line 116, in decorate_context\n",
      "    return func(*args, **kwargs)\n",
      "  File \"e:\\Personal Files\\Learning Programming\\Data Science\\Projects\\GenAI_Projects\\venv\\Lib\\site-packages\\transformers\\generation\\utils.py\", line 2141, in generate\n",
      "    model_kwargs = self._prepare_encoder_decoder_kwargs_for_generation(\n",
      "        inputs_tensor, model_kwargs, model_input_name, generation_config\n",
      "    )\n",
      "  File \"e:\\Personal Files\\Learning Programming\\Data Science\\Projects\\GenAI_Projects\\venv\\Lib\\site-packages\\transformers\\generation\\utils.py\", line 692, in _prepare_encoder_decoder_kwargs_for_generation\n",
      "    model_kwargs[\"encoder_outputs\"]: ModelOutput = encoder(**encoder_kwargs)  # type: ignore\n",
      "                                                   ~~~~~~~^^^^^^^^^^^^^^^^^^\n",
      "  File \"e:\\Personal Files\\Learning Programming\\Data Science\\Projects\\GenAI_Projects\\venv\\Lib\\site-packages\\torch\\nn\\modules\\module.py\", line 1739, in _wrapped_call_impl\n",
      "    return self._call_impl(*args, **kwargs)\n",
      "           ~~~~~~~~~~~~~~~^^^^^^^^^^^^^^^^^\n",
      "  File \"e:\\Personal Files\\Learning Programming\\Data Science\\Projects\\GenAI_Projects\\venv\\Lib\\site-packages\\torch\\nn\\modules\\module.py\", line 1750, in _call_impl\n",
      "    return forward_call(*args, **kwargs)\n",
      "  File \"e:\\Personal Files\\Learning Programming\\Data Science\\Projects\\GenAI_Projects\\venv\\Lib\\site-packages\\transformers\\models\\bart\\modeling_bart.py\", line 1061, in forward\n",
      "    embed_pos = self.embed_positions(input)\n",
      "  File \"e:\\Personal Files\\Learning Programming\\Data Science\\Projects\\GenAI_Projects\\venv\\Lib\\site-packages\\torch\\nn\\modules\\module.py\", line 1739, in _wrapped_call_impl\n",
      "    return self._call_impl(*args, **kwargs)\n",
      "           ~~~~~~~~~~~~~~~^^^^^^^^^^^^^^^^^\n",
      "  File \"e:\\Personal Files\\Learning Programming\\Data Science\\Projects\\GenAI_Projects\\venv\\Lib\\site-packages\\torch\\nn\\modules\\module.py\", line 1750, in _call_impl\n",
      "    return forward_call(*args, **kwargs)\n",
      "  File \"e:\\Personal Files\\Learning Programming\\Data Science\\Projects\\GenAI_Projects\\venv\\Lib\\site-packages\\transformers\\models\\bart\\modeling_bart.py\", line 116, in forward\n",
      "    return super().forward(positions + self.offset)\n",
      "           ~~~~~~~~~~~~~~~^^^^^^^^^^^^^^^^^^^^^^^^^\n",
      "  File \"e:\\Personal Files\\Learning Programming\\Data Science\\Projects\\GenAI_Projects\\venv\\Lib\\site-packages\\torch\\nn\\modules\\sparse.py\", line 190, in forward\n",
      "    return F.embedding(\n",
      "           ~~~~~~~~~~~^\n",
      "        input,\n",
      "        ^^^^^^\n",
      "    ...<5 lines>...\n",
      "        self.sparse,\n",
      "        ^^^^^^^^^^^^\n",
      "    )\n",
      "    ^\n",
      "  File \"e:\\Personal Files\\Learning Programming\\Data Science\\Projects\\GenAI_Projects\\venv\\Lib\\site-packages\\torch\\nn\\functional.py\", line 2551, in embedding\n",
      "    return torch.embedding(weight, input, padding_idx, scale_grad_by_freq, sparse)\n",
      "           ~~~~~~~~~~~~~~~^^^^^^^^^^^^^^^^^^^^^^^^^^^^^^^^^^^^^^^^^^^^^^^^^^^^^^^^\n",
      "IndexError: index out of range in self\n"
     ]
    }
   ],
   "source": [
    "# demo = gr.Interface(fn=summary,inputs=\"text\",outputs = \"text\")\n",
    "demo = gr.Interface(\n",
    "    fn=summary,\n",
    "    inputs=[gr.Textbox(label=\"Input Text to Summarizer\",lines=6)],\n",
    "    outputs=[gr.Textbox(label=\"Summarized Text\", lines=4)],\n",
    "    title=\"TEXT SUMMARIZER\"\n",
    "    description=\"This application will be used to summarize any text\"\n",
    ")\n",
    "demo.launch()"
   ]
  },
  {
   "cell_type": "code",
   "execution_count": null,
   "metadata": {},
   "outputs": [],
   "source": []
  }
 ],
 "metadata": {
  "kernelspec": {
   "display_name": "Python 3",
   "language": "python",
   "name": "python3"
  },
  "language_info": {
   "codemirror_mode": {
    "name": "ipython",
    "version": 3
   },
   "file_extension": ".py",
   "mimetype": "text/x-python",
   "name": "python",
   "nbconvert_exporter": "python",
   "pygments_lexer": "ipython3",
   "version": "3.13.2"
  }
 },
 "nbformat": 4,
 "nbformat_minor": 2
}
